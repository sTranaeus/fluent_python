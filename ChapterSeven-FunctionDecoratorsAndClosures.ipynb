{
 "cells": [
  {
   "cell_type": "markdown",
   "metadata": {},
   "source": [
    "Function decorators allow for marking a function, and potentially enhancing its behaviour.\n",
    "\n",
    "Building your own decorators requires a good understanding of closures."
   ]
  },
  {
   "cell_type": "markdown",
   "metadata": {},
   "source": [
    "## Decorators 101"
   ]
  },
  {
   "cell_type": "markdown",
   "metadata": {},
   "source": [
    "A decorator is a callable that taekes another function as an argument."
   ]
  },
  {
   "cell_type": "markdown",
   "metadata": {},
   "source": [
    "```\n",
    "@decorate\n",
    "def target():\n",
    "    print('running target')```\n",
    "    \n",
    "is equivalent to\n",
    "\n",
    "```\n",
    "def target():\n",
    "    print('running target')\n",
    "target = decorate(target)```\n",
    "\n",
    "At the end of either of these snippets, the `target` name refers to whatever `decorator(target)` returned."
   ]
  },
  {
   "cell_type": "markdown",
   "metadata": {},
   "source": [
    "They can replace a decorated function with another one"
   ]
  },
  {
   "cell_type": "markdown",
   "metadata": {},
   "source": [
    "## When Python Executes Decorators"
   ]
  },
  {
   "cell_type": "markdown",
   "metadata": {},
   "source": [
    "Decorators run right after the decorated function is defined"
   ]
  },
  {
   "cell_type": "markdown",
   "metadata": {},
   "source": [
    "Function decorators run as soon as a module is imported, but decorated functions only run when they are explicitly invoked.\n",
    "\n",
    "This demonstrates the difference between `import time` and `runtime`"
   ]
  },
  {
   "cell_type": "markdown",
   "metadata": {},
   "source": [
    "Decorators are usually defined in a module sepearte to the functions they will decorate."
   ]
  },
  {
   "cell_type": "markdown",
   "metadata": {},
   "source": [
    "## Using decorators to enhance code"
   ]
  },
  {
   "cell_type": "markdown",
   "metadata": {},
   "source": [
    "A registration decorator is one that adds the decorated function to some collections. This is useful for keeping track of all functions in a list for example.\n",
    "\n",
    "Most decorators change the decorated function using an inner function."
   ]
  },
  {
   "cell_type": "markdown",
   "metadata": {},
   "source": [
    "## Scope"
   ]
  },
  {
   "cell_type": "markdown",
   "metadata": {},
   "source": [
    "Python assumes a variable assigned in the body of a function is local"
   ]
  },
  {
   "cell_type": "markdown",
   "metadata": {},
   "source": [
    "## Use dis.dis(function) all the time to get to Python's internals"
   ]
  },
  {
   "cell_type": "markdown",
   "metadata": {},
   "source": [
    "## Closures"
   ]
  },
  {
   "cell_type": "markdown",
   "metadata": {},
   "source": [
    "A closure is a funciton that contains nonglobal variables, referenced in the body of the function, but not defined there.\n",
    "\n",
    "It is a record, that stores a function, along with an environment. The environment maps each free variable of the function(vars used locally but defined in the enclosing scope), with the value/reference to which it was bound when the closure was created."
   ]
  },
  {
   "cell_type": "markdown",
   "metadata": {},
   "source": [
    "High order function for running average"
   ]
  },
  {
   "cell_type": "code",
   "execution_count": null,
   "metadata": {},
   "outputs": [],
   "source": [
    "def make_averager():\n",
    "    series = []\n",
    "    \n",
    "    def averager(new_value):\n",
    "        series.append(new_value)\n",
    "        total = sum(series)\n",
    "        return total/len(series)\n",
    "    \n",
    "    return averager"
   ]
  },
  {
   "cell_type": "code",
   "execution_count": null,
   "metadata": {},
   "outputs": [],
   "source": [
    "avg = make_averager()\n",
    "avg(10)"
   ]
  },
  {
   "cell_type": "code",
   "execution_count": null,
   "metadata": {},
   "outputs": [],
   "source": [
    "avg(11)"
   ]
  },
  {
   "cell_type": "code",
   "execution_count": null,
   "metadata": {},
   "outputs": [],
   "source": [
    "avg(12)"
   ]
  },
  {
   "cell_type": "code",
   "execution_count": null,
   "metadata": {},
   "outputs": [],
   "source": [
    "avg.__closure__"
   ]
  },
  {
   "cell_type": "markdown",
   "metadata": {},
   "source": [
    "## The nonlocal Declaration"
   ]
  },
  {
   "cell_type": "markdown",
   "metadata": {},
   "source": [
    "Introduced in Python 3, it lets you flag a variable as free, even when assigned a new value within the function."
   ]
  },
  {
   "cell_type": "code",
   "execution_count": null,
   "metadata": {},
   "outputs": [],
   "source": [
    "def make_averager():\n",
    "    count = 0\n",
    "    total = 0\n",
    "    \n",
    "    def averager(new_value):\n",
    "        # as += is the same as count = count + 1,\n",
    "        # Python will error without the nonlocal flag\n",
    "        # because it assumes count is assigned in the function\n",
    "        nonlocal count, total\n",
    "        count += 1\n",
    "        total += new_value\n",
    "        return total / count\n",
    "        \n",
    "    return averager"
   ]
  },
  {
   "cell_type": "markdown",
   "metadata": {},
   "source": [
    "Use repr() to return the string represention of an object"
   ]
  },
  {
   "cell_type": "markdown",
   "metadata": {},
   "source": [
    "## Implementing a simple decorator"
   ]
  },
  {
   "cell_type": "code",
   "execution_count": null,
   "metadata": {},
   "outputs": [],
   "source": [
    "import time\n",
    "\n",
    "def clock(func):\n",
    "    def clocked(*args):\n",
    "        t0 = time.perf_counter()\n",
    "        result = func(*args)\n",
    "        elapsed = time.perf_counter() - t0\n",
    "        name = func.__name__\n",
    "        arg_str = ', '.join(repr(arg) for arg in args)\n",
    "        print('[%0.8fs] %s(%s) -> %r' % (elapsed, name, arg_str, result))\n",
    "        return result\n",
    "    return clocked"
   ]
  },
  {
   "cell_type": "code",
   "execution_count": null,
   "metadata": {},
   "outputs": [],
   "source": [
    "@clock\n",
    "def factorial(n):\n",
    "    return 1 if n < 2 else n*factorial(n-1)"
   ]
  },
  {
   "cell_type": "code",
   "execution_count": null,
   "metadata": {},
   "outputs": [],
   "source": [
    "factorial(5)"
   ]
  },
  {
   "cell_type": "code",
   "execution_count": null,
   "metadata": {},
   "outputs": [],
   "source": [
    "factorial.__name__"
   ]
  },
  {
   "cell_type": "markdown",
   "metadata": {},
   "source": [
    "Looked at the above cell!\n",
    "\n",
    "The decorator redefined what the functimon name points to.\n",
    "The `clocked` function is assigned to factorial. When factorial(n) is called, clocked(n) is executed."
   ]
  },
  {
   "cell_type": "markdown",
   "metadata": {},
   "source": [
    "This is what usually happens with a decorator. It replace the decorated function with a new function. this new function accepts the same arguemnts and usually returns what the decorated function should return, while doing some extra processing."
   ]
  },
  {
   "cell_type": "markdown",
   "metadata": {},
   "source": [
    "## Decorators in the Standard Library"
   ]
  },
  {
   "cell_type": "markdown",
   "metadata": {},
   "source": [
    "Python has three decorators specificaly for methods: property, classmehtod, and statismethod"
   ]
  },
  {
   "cell_type": "markdown",
   "metadata": {},
   "source": [
    "fucntools.wraps is a decorator used for building well behaved decorators."
   ]
  },
  {
   "cell_type": "markdown",
   "metadata": {},
   "source": [
    "## memoization with functools.lru_cache"
   ]
  },
  {
   "cell_type": "markdown",
   "metadata": {},
   "source": [
    "__Memoization__: technique that saves the results of previous invocations of an expensive function, avoiding repeat computions on previously used functions.\n",
    "\n",
    "LRU stands for Least Recently Used - the growth of the cache is limited by discarding the entries that have not been read for a while."
   ]
  },
  {
   "cell_type": "code",
   "execution_count": null,
   "metadata": {},
   "outputs": [],
   "source": [
    "@clock\n",
    "def fibonacci(n):\n",
    "    if n < 2:\n",
    "        return n\n",
    "    return fibonacci(n-2) + fibonacci(n-1)"
   ]
  },
  {
   "cell_type": "code",
   "execution_count": null,
   "metadata": {},
   "outputs": [],
   "source": [
    "fibonacci(6)"
   ]
  },
  {
   "cell_type": "markdown",
   "metadata": {},
   "source": [
    "Using lru_cache, far fewer calls are made:"
   ]
  },
  {
   "cell_type": "code",
   "execution_count": null,
   "metadata": {},
   "outputs": [],
   "source": [
    "import functools\n",
    "\n",
    "@functools.lru_cache()\n",
    "@clock\n",
    "def fibonacci(n):\n",
    "    if n < 2:\n",
    "        return n\n",
    "    return fibonacci(n-2) + fibonacci(n-1)"
   ]
  },
  {
   "cell_type": "markdown",
   "metadata": {},
   "source": [
    "Noticed how you can have multiple decorators. This stacks them, like composite functions.\n",
    "\n",
    "So:\n",
    "\n",
    "@functool_cache()\n",
    "@clock\n",
    "def func()\n",
    "    ...\n",
    "    \n",
    "Is the same as \n",
    "\n",
    "func = functool_cache(clock(func)))"
   ]
  },
  {
   "cell_type": "code",
   "execution_count": null,
   "metadata": {},
   "outputs": [],
   "source": [
    "fibonacci(20)"
   ]
  },
  {
   "cell_type": "markdown",
   "metadata": {},
   "source": [
    "Comment the lru_cache() decorator, and compare the execution time with big ns!"
   ]
  },
  {
   "cell_type": "markdown",
   "metadata": {},
   "source": [
    "functools.lru_cache(maxsize=128, typed=False)\n",
    "\n",
    "maxszie is how many calls are stored. For optimal performance make it a power of 2.\n",
    "\n",
    "typed is whether or not to store results of different types seperatly.\n",
    "\n",
    "All arguments taken from the decorated function must be hashable, as lru_cache uses a dict."
   ]
  },
  {
   "cell_type": "markdown",
   "metadata": {},
   "source": [
    "## Generic Functions with Single Dispatch"
   ]
  },
  {
   "cell_type": "markdown",
   "metadata": {},
   "source": [
    "If you have a set of very similar tasks, that can be executed in very similar looking functions, ideally that code is shared. However, in Python you don't have function overloading, so you can't create variatiosn of one function with different signatures.\n",
    "\n",
    "One could make one grand function with extensive ifs and elses to handle different arguments, that then calls specialised functions. But this is not maintainable, and the coupling between it and the special functions would become too tight."
   ]
  },
  {
   "cell_type": "markdown",
   "metadata": {},
   "source": [
    "functools.singledispatch is a decorator that makes the decorated function a generic function - a group of functions to perform the same operation in different ways, depening on the type of the argument"
   ]
  },
  {
   "cell_type": "code",
   "execution_count": null,
   "metadata": {},
   "outputs": [],
   "source": [
    "from functools import singledispatch\n",
    "from collections import abc\n",
    "import numbers\n",
    "import html\n",
    "\n",
    "# singledispatch marks the base function\n",
    "@singledispatch\n",
    "def htmlize(obj):\n",
    "    content = html.escape(repr(obj))\n",
    "    return '<pre>{}</pre>'.format(content)\n",
    "\n",
    "@htmlize.register(str)\n",
    "def _(text):\n",
    "    content = html.escape(text).replace('\\n', '<br>\\n')\n",
    "    return '<p>{0}<\\p>'.format(content)\n",
    "    \n",
    "@htmlize.register(numbers.Integral)\n",
    "def _(n):\n",
    "    return '<pre>{0} (0x{0:x})</pre>'.format(n)"
   ]
  },
  {
   "cell_type": "markdown",
   "metadata": {},
   "source": [
    "Each specialised function is then decorated with <base_function>.register(type)"
   ]
  },
  {
   "cell_type": "markdown",
   "metadata": {},
   "source": [
    "Also notice how some of the specialised functions are made to hangle ABCs including numbers.Integral, instead of a concrete implementation list int(or abc.MutableSequence instead of list).\n",
    "\n",
    "This allows your program compatability with more types, and to support future classes that may be subclasses of your ABCs.\n",
    "\n",
    "Use this ensure that each unit of code follows a single, logical task - as it should always."
   ]
  },
  {
   "cell_type": "markdown",
   "metadata": {},
   "source": [
    "## Parameterized Decorators"
   ]
  },
  {
   "cell_type": "markdown",
   "metadata": {},
   "source": [
    "When parsing a decorator, Python gives the decorated function as the first argument of the decorator.\n",
    "\n",
    "To create your own decorator function with parameters, make a decorator factory, that takes those parameters and returns a decorator. This returned decorator is what ends up being applied to the decorated function."
   ]
  },
  {
   "cell_type": "code",
   "execution_count": null,
   "metadata": {},
   "outputs": [],
   "source": [
    "registry = set()\n",
    "\n",
    "def register(active=True):\n",
    "    def decorate(func):\n",
    "        print('running register(active=%s)->decorate(%s)'\n",
    "            % (active, func))\n",
    "        if active:\n",
    "            registry.add(func)\n",
    "        else:\n",
    "            registry.discard(func)\n",
    "        return func\n",
    "    return decorate"
   ]
  },
  {
   "cell_type": "code",
   "execution_count": null,
   "metadata": {},
   "outputs": [],
   "source": [
    "@register(active=False)\n",
    "def f1():\n",
    "    print('running f1()')"
   ]
  },
  {
   "cell_type": "markdown",
   "metadata": {},
   "source": [
    "register, the decorator factory, build the decorate function with the given params, then returns it."
   ]
  },
  {
   "cell_type": "markdown",
   "metadata": {},
   "source": [
    "Use set.discard(x) to discard element x from a set in Python"
   ]
  },
  {
   "cell_type": "markdown",
   "metadata": {},
   "source": [
    "Hardcore Pythonistas think decorators are better coded as classes implementing \\__call__"
   ]
  },
  {
   "cell_type": "markdown",
   "metadata": {},
   "source": [
    "The first language to have first class functions was Lisp"
   ]
  },
  {
   "cell_type": "code",
   "execution_count": null,
   "metadata": {},
   "outputs": [],
   "source": []
  }
 ],
 "metadata": {
  "kernelspec": {
   "display_name": "Python 3",
   "language": "python",
   "name": "python3"
  }
 },
 "nbformat": 4,
 "nbformat_minor": 2
}
