{
 "cells": [
  {
   "cell_type": "markdown",
   "metadata": {},
   "source": [
    "It's better to think of variables as labels instead of boxes.\n",
    "\n",
    "It is better to say \"Variable x is assigned to the table object\" than \"The table object is assigned to variable x\"\n",
    "Because variables are only assigned to objects once the object has already been created."
   ]
  },
  {
   "cell_type": "markdown",
   "metadata": {},
   "source": [
    "The righthand side of an assignment happens first. The object is first created or retrieved. Then the variable on the left is bound to that object. Page 227 gives an excellent example of this."
   ]
  },
  {
   "cell_type": "markdown",
   "metadata": {},
   "source": [
    "## Identity, Equality, and Aliases"
   ]
  },
  {
   "cell_type": "markdown",
   "metadata": {},
   "source": [
    "The id of an object is a unique number, that will never change during its lifetime"
   ]
  },
  {
   "cell_type": "code",
   "execution_count": null,
   "metadata": {},
   "outputs": [],
   "source": [
    "b = 1\n",
    "x = b\n",
    "print(id(b))\n",
    "print(id(x))"
   ]
  },
  {
   "cell_type": "code",
   "execution_count": null,
   "metadata": {},
   "outputs": [],
   "source": [
    "a = {}\n",
    "b = {}"
   ]
  },
  {
   "cell_type": "code",
   "execution_count": null,
   "metadata": {},
   "outputs": [],
   "source": [
    "print(a == b) # They have equal values\n",
    "print(a is b) # but they are distinct objects\n",
    "print(id(a))\n",
    "print(id(b))"
   ]
  },
  {
   "cell_type": "markdown",
   "metadata": {},
   "source": [
    "## Choosing between == and is"
   ]
  },
  {
   "cell_type": "markdown",
   "metadata": {},
   "source": [
    "== compares the value of objects"
   ]
  },
  {
   "cell_type": "markdown",
   "metadata": {},
   "source": [
    "is compares their identities"
   ]
  },
  {
   "cell_type": "markdown",
   "metadata": {},
   "source": [
    "is is faster than == just because it cannot be overloaded. While a == b is syntactic sugar for a.\\__eq__(b). equality may involve a lot more testing than simply comparing to integers"
   ]
  },
  {
   "cell_type": "code",
   "execution_count": null,
   "metadata": {},
   "outputs": [],
   "source": [
    "a = 1\n",
    "b = 2"
   ]
  },
  {
   "cell_type": "markdown",
   "metadata": {},
   "source": [
    "## The Relative Immutability of Tuples"
   ]
  },
  {
   "cell_type": "markdown",
   "metadata": {},
   "source": [
    "Most Python collections hold references to objects. While single-type sequences like str,m bytes, and array.array are flat. They physically hold the data in continguous memory."
   ]
  },
  {
   "cell_type": "markdown",
   "metadata": {},
   "source": [
    "Tuples are immutable but the obejcts they reference are not necessarily."
   ]
  },
  {
   "cell_type": "markdown",
   "metadata": {},
   "source": [
    "## Copies are shallow by default"
   ]
  },
  {
   "cell_type": "markdown",
   "metadata": {},
   "source": [
    "Copying a list:"
   ]
  },
  {
   "cell_type": "code",
   "execution_count": null,
   "metadata": {},
   "outputs": [],
   "source": [
    "l1 = [3, 2, 1]\n",
    "l2 = list(l1)\n",
    "#OR\n",
    "l3 = l1[:]"
   ]
  },
  {
   "cell_type": "markdown",
   "metadata": {},
   "source": [
    "However, [:] creates a shallow copy - where only the outermost container is copied, and the copy consists of references to the same objects stored. If the objects are mutable, this can cause problems."
   ]
  },
  {
   "cell_type": "markdown",
   "metadata": {},
   "source": [
    "## Deep and Shallow Copies of Arbitrary Objects"
   ]
  },
  {
   "cell_type": "markdown",
   "metadata": {},
   "source": [
    "Deep copies - duplicates that do not share any object references.\n",
    "\n",
    "copy module provides deepcopy and copy functions"
   ]
  },
  {
   "cell_type": "markdown",
   "metadata": {},
   "source": [
    "deep copying can become quite complex. They can be controlled using \\__copy__ and \\__deepcopy__ methods"
   ]
  },
  {
   "cell_type": "markdown",
   "metadata": {},
   "source": [
    "## Function Parameters as References"
   ]
  },
  {
   "cell_type": "markdown",
   "metadata": {},
   "source": [
    "Like in most OO languages, parameter passing in Python is call by sharing. That is, parameters in a function become aliases of the actual arguments. They get a copy of each reference in the argument."
   ]
  },
  {
   "cell_type": "markdown",
   "metadata": {},
   "source": [
    "This means that a function may change any mutable object passed as a parameter"
   ]
  },
  {
   "cell_type": "markdown",
   "metadata": {},
   "source": [
    "## Mutable Types as Parameter Defaults: Bad Idea\n",
    "\n"
   ]
  },
  {
   "cell_type": "markdown",
   "metadata": {},
   "source": [
    "Avoid mutable objects as default values for parameters"
   ]
  },
  {
   "cell_type": "markdown",
   "metadata": {},
   "source": [
    "For params that may recieve mutable objects, default them to None"
   ]
  },
  {
   "cell_type": "markdown",
   "metadata": {},
   "source": [
    "Avoiding making instance variables aliases to aliases of the actual parameters passed."
   ]
  },
  {
   "cell_type": "code",
   "execution_count": null,
   "metadata": {},
   "outputs": [],
   "source": [
    "a = [1, 2, 3]\n",
    "\n",
    "class example:\n",
    "    def __init__(self, a=None):\n",
    "        if a is None:\n",
    "            self.a = []\n",
    "        else:\n",
    "            self.a = a # this makes the instance variable a, a reference to the list, a, defined outside the class.\n",
    "# So when you edit the instance variable, this will mess with the outer variable a.\n",
    "# instead, initialise it with a copy:\n",
    "# else:\n",
    "#     self.a = list(a)"
   ]
  },
  {
   "cell_type": "markdown",
   "metadata": {},
   "source": [
    "## del and Garbage Collection"
   ]
  },
  {
   "cell_type": "markdown",
   "metadata": {},
   "source": [
    "The `del` statement in Python deletes names, not objects.\n",
    "\n",
    "Objects are never explicitly destroyed. But if they become unreachable(number of references reaches zero), they may be garbage collected."
   ]
  },
  {
   "cell_type": "markdown",
   "metadata": {},
   "source": [
    "Rebinding a variable can also cause number of references to reach zero.\n",
    "\n",
    "If two objects reference eachother, they may be destroyed because the intrepreter determines they are unreachable beyond their mutual references"
   ]
  },
  {
   "cell_type": "markdown",
   "metadata": {},
   "source": [
    "In CPython, each object holds a count of how many references point to it. If that count reaches zero, it is destroyed. There are other implementions of garbage collection in Python."
   ]
  },
  {
   "cell_type": "markdown",
   "metadata": {},
   "source": [
    "## Weak References"
   ]
  },
  {
   "cell_type": "markdown",
   "metadata": {},
   "source": [
    "The presence of references is what keeps objects in memory(alive)"
   ]
  },
  {
   "cell_type": "markdown",
   "metadata": {},
   "source": [
    "A weak reference is one that does not stop the referent from being destroyed.\n",
    "\n",
    "A weakref.ref instance can be called to reach its referrent. If the object is alive, calling weak reference returns it, otherwise None is returned."
   ]
  },
  {
   "cell_type": "markdown",
   "metadata": {},
   "source": [
    "This could be useful in caching, where you don't want an object to be kept alive just because the cache references it."
   ]
  },
  {
   "cell_type": "markdown",
   "metadata": {},
   "source": [
    "weakref.WeakValueDictionary implements a mapping, where values are weak references to objects. Entries are automatically deleted if they are no longer alive(when there are no more strong references)."
   ]
  },
  {
   "cell_type": "markdown",
   "metadata": {},
   "source": [
    "If you need to build a class that is aware of all its instance, have a class attribute that is a WeakSet, holding a reference to each instance."
   ]
  },
  {
   "cell_type": "markdown",
   "metadata": {},
   "source": [
    "Certain Python types cannot be referenced weakly, usch as a tuple and int."
   ]
  },
  {
   "cell_type": "markdown",
   "metadata": {},
   "source": [
    "## Chapter Summary"
   ]
  },
  {
   "cell_type": "markdown",
   "metadata": {},
   "source": [
    "Every Python object has an identiy, a type, and a value. Only the value changes over time.*\n",
    "\n",
    "*The type of an object can be changed by assignign a different class to its \\__class__ attribute. But don't do that. That is evil."
   ]
  },
  {
   "cell_type": "markdown",
   "metadata": {},
   "source": [
    "Immutable collections cannot change value unless they hold references to mutable objects."
   ]
  },
  {
   "cell_type": "markdown",
   "metadata": {},
   "source": [
    "* Simple assignment does not create copies\n",
    "* Augment assignment creates new objects if the lefthand variable is bound to an immutable object. Otherwise, it may modify a mutable object in place.\n",
    "* Assigning a new vlue to an existing variable - called rebinding - does not change the object previously bound to it. If that variable was the last reference, however, it will be garbage collected.\n",
    "* Function parameters are passed as aliases. This means that functions may change a mutable object recieved as an argument. Handle this by making local copies of the argument, or using immutable types.\n",
    "* Using mutable objects as default values in function parameters is dangerous. Because if the parameter is changed inplace, the default value is changed, affecting future calls."
   ]
  },
  {
   "cell_type": "markdown",
   "metadata": {},
   "source": [
    "In CPython, objects are discarded the moment their reference count reaches zero.\n",
    "\n",
    "They may also be discarded if they form groups of cyclic references, but with no outside references."
   ]
  },
  {
   "cell_type": "markdown",
   "metadata": {},
   "source": [
    "Weak references allow for holding a reference to an object, but one that does not keep the object alive by itself.\n",
    "\n",
    "This could be useful for a class that keeps track of all its references"
   ]
  },
  {
   "cell_type": "markdown",
   "metadata": {},
   "source": [
    "Java == looks at references, instead of values. This is not intuitive"
   ]
  },
  {
   "cell_type": "code",
   "execution_count": null,
   "metadata": {},
   "outputs": [],
   "source": []
  }
 ],
 "metadata": {
  "kernelspec": {
   "display_name": "Python 3",
   "language": "python",
   "name": "python3"
  }
 },
 "nbformat": 4,
 "nbformat_minor": 2
}
