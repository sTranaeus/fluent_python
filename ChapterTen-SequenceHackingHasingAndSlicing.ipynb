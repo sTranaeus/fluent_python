{
 "cells": [
  {
   "cell_type": "markdown",
   "metadata": {},
   "source": [
    "Duck typing - The emphasis is on what the object can do, as opposed to what it is. There is no check of the object's type and what it can do. Instead the code just runs, and if some object doesn't support the given operation, it errors. \"If it walks like a duck, and talks like a duck, then it is a duck."
   ]
  },
  {
   "cell_type": "markdown",
   "metadata": {},
   "source": [
    "use `reprlib.repr` for safe representations of large or recursive structures. This way an ellipsis is used, instead of outputting thousands of lines of code."
   ]
  },
  {
   "cell_type": "markdown",
   "metadata": {},
   "source": [
    "\\__repr__ should never error, because it is so important to debugging"
   ]
  },
  {
   "cell_type": "markdown",
   "metadata": {},
   "source": [
    "## Protocols and Duck Typing"
   ]
  },
  {
   "cell_type": "markdown",
   "metadata": {},
   "source": [
    "In OOP, a protocal is an informal interface, defined only in documentation and not in code.\n",
    "An example would be the sequece protocol, which only requires the \\__len__ and \\__getitem__ methods."
   ]
  },
  {
   "cell_type": "markdown",
   "metadata": {},
   "source": [
    "A class that implements only those methods mentioned just above, should be identified as a sequence, because it appears to behave like one - not because it is explicilty stated to be one."
   ]
  },
  {
   "cell_type": "markdown",
   "metadata": {},
   "source": [
    "## Slicing"
   ]
  },
  {
   "cell_type": "markdown",
   "metadata": {},
   "source": [
    "`slice` is a built-in type."
   ]
  },
  {
   "cell_type": "code",
   "execution_count": null,
   "metadata": {
    "scrolled": true
   },
   "outputs": [],
   "source": [
    "dir(slice) # shows that a slice object has four attributes: start, step, stop, and indices"
   ]
  },
  {
   "cell_type": "code",
   "execution_count": null,
   "metadata": {},
   "outputs": [],
   "source": [
    "help(slice.indices)"
   ]
  },
  {
   "cell_type": "markdown",
   "metadata": {},
   "source": [
    "So what indices() does is show what Python does with missing or negative indices, and slices that are longer than the target sequence. Given a start, stop, step configuration, not is not \"normal\", or that is negative, this method normalizes them to fit within the bounds of the given sequence."
   ]
  },
  {
   "cell_type": "code",
   "execution_count": null,
   "metadata": {},
   "outputs": [],
   "source": [
    "slice(None, 10, 2).indices(5) # 'ABCDE'[:10:2] is the same as 'ABCDE'[0:5:2]\n",
    "slice(-3, None, None).indices(5) # 'ABCDE'[-3:] is the same as 'ABCDE'[2:5:1]"
   ]
  },
  {
   "cell_type": "code",
   "execution_count": null,
   "metadata": {},
   "outputs": [],
   "source": [
    "class Vector:\n",
    "    # ommitting constructor\n",
    "    def __len__(self):\n",
    "        return len(self._components)\n",
    "    \n",
    "    def __getitem__(self, index):\n",
    "        cls = type(self)\n",
    "        if isistane(index, slice): # if the index is a slice object, return a new vector of that slice\n",
    "            return cls(self._components[index])\n",
    "        elif isinstance(index, numbers.Integral): # if the index is some kind of integer, return that index\n",
    "            # notice how an ABC, numbers.Integral, is used. This makes it more future proof and flexible.\n",
    "            return self._components[index]\n",
    "        else: #otherwise, error\n",
    "            msg = '{cls.__name__} indices must be integers'\n",
    "            raise TypeError(msg.format(cls=cls))"
   ]
  },
  {
   "cell_type": "markdown",
   "metadata": {},
   "source": [
    "## Dynamic Attribute Access"
   ]
  },
  {
   "cell_type": "markdown",
   "metadata": {},
   "source": [
    "\\__getattr__ is invoked by the interpreter when looking up at attribute fails. If Python can't find x when `obj.x` is ran, and it can't be found in superclasses, then \\__getattr__ is called."
   ]
  },
  {
   "cell_type": "markdown",
   "metadata": {},
   "source": [
    "Implementing a custom \\__getattr__ method, such as for a multi dimensional vector class and getting the first few characters(xyz), can also require implementing a custom \\__setattr__ method. This is because you don't want class attributes being set that \\__getattr__ is depending on. Because once they're set, \\__getattr__ will not be called, as it's only called if lookup fails. "
   ]
  },
  {
   "cell_type": "code",
   "execution_count": null,
   "metadata": {},
   "outputs": [],
   "source": [
    "class Vector:\n",
    "    # ommitted other code\n",
    "    \n",
    "    def __setattr__(self, name, value):\n",
    "        cls = type(self)\n",
    "            if len(name) == 1:\n",
    "                if name in cls.shortcut_names: # check if name in reserved attribtues used in __getattr__\n",
    "                    error = 'readonly attribtue {attr_name!r}\n",
    "                elif name.islower(): # don't allow any lower case letters in general\n",
    "                    error = \"can't set attirbutes 'a' to 'z' in {cls_name!r}\"\n",
    "                else: # otherwise bind error to empty string\n",
    "                    error = ''\n",
    "                if error: # if error refers to a non empty string, raise\n",
    "                    msg = error.format(cls_name=cls.__name__, attr_name=name)\n",
    "                    raise AttributeError(msg)\n",
    "            super().__setattr__(name, value) #otherwise, call standard superclass method for setting attr"
   ]
  },
  {
   "cell_type": "markdown",
   "metadata": {},
   "source": [
    "__very often__ if you implement `__getattr__`, you will need to implement `__setattr__`"
   ]
  },
  {
   "cell_type": "markdown",
   "metadata": {},
   "source": [
    "__How functools.reduce works in Python__\n",
    "\n",
    "reduce takes three arguments. A two argument function, an iterable, and an initiliaser\n",
    "\n",
    "When you call reduce(fn, list), fn is applied to the first two elements of the list, creating r1. Then r1, and the third element of the list are inputted to fn, producing r2. And so forth until rN.\n",
    "\n",
    "The initialiser is the value returned if the given iterable is empty, and is used as the first argument of the reducing loop. It should be the identity value of the operation. So 0 for +, |, ^, and 1 for *, &."
   ]
  },
  {
   "cell_type": "code",
   "execution_count": null,
   "metadata": {},
   "outputs": [],
   "source": [
    "# to get the hash of a multidimensional vector,\n",
    "# follow the same logic of Vector2d, getting the XOR of each component's hash:\n",
    "\n",
    "def __hash__(self):\n",
    "#    hashes = (hash(x) for x in self._components)\n",
    "    hashes = map(hash, self._components) # even better than the comprehension above\n",
    "    # This could also call a lambda, but using an already build function, xor, is better\n",
    "    return functools.reduce(operator.xor, hashes, 0)\n",
    "    # This is a good example of map reduce. We mapped all components to their hashes, then made an xor of them into a signle value"
   ]
  },
  {
   "cell_type": "markdown",
   "metadata": {},
   "source": [
    "Previously, the \\__eq__ method was:"
   ]
  },
  {
   "cell_type": "code",
   "execution_count": null,
   "metadata": {},
   "outputs": [],
   "source": [
    "def __eq__(self, other):\n",
    "    return tuple(self) == tuple(other)"
   ]
  },
  {
   "cell_type": "markdown",
   "metadata": {},
   "source": [
    "But this is ineffecient for a potentialyl huge mutlidimensional vector. Becuase it builds two seperate tuples, which means copying all of the components from both arguments. This could be a better implementation:"
   ]
  },
  {
   "cell_type": "code",
   "execution_count": null,
   "metadata": {},
   "outputs": [],
   "source": [
    "def __eq__(self, other):\n",
    "    if len(self) != len(other): # if unequal lengths, fail\n",
    "        return False\n",
    "    for a, b in zip(self, other): # the moment the component pairs don't match, fail.\n",
    "        # as we're using zip, the len comparision is important zip stops producing values without warning, if a sequene is exhausted.\n",
    "        # zip stops at the shortest operand.\n",
    "        if a != b:\n",
    "            return False\n",
    "    return True"
   ]
  },
  {
   "cell_type": "markdown",
   "metadata": {},
   "source": [
    "The above method can be made even more effecient using `all` function, which does the same aggregate computation of the for loop in one line:"
   ]
  },
  {
   "cell_type": "code",
   "execution_count": null,
   "metadata": {},
   "outputs": [],
   "source": [
    "def __eq__(self, other):\n",
    "    return len(self) == len(other) and all(a == b for a, b in zip(self, other))"
   ]
  },
  {
   "cell_type": "markdown",
   "metadata": {},
   "source": [
    "__zip__\n",
    "\n",
    "Somewhat suprisingly, zip will stop generating when one of the iterables is exhausted.\n",
    "`itertools.longestzip` provides the opposite functionality. You give it a fillvalue as a parameter, which it uses so it can generate tuples until the last iterable is exhausted."
   ]
  },
  {
   "cell_type": "code",
   "execution_count": null,
   "metadata": {},
   "outputs": [],
   "source": [
    "import itertools\n",
    "help(itertools.chain)"
   ]
  },
  {
   "cell_type": "markdown",
   "metadata": {},
   "source": [
    "* If implementing a \\__getattr__ method, you will usually also need a \\__setattr__\n",
    "* Look at how standard Python objects behave to emulate them and write good code"
   ]
  },
  {
   "cell_type": "markdown",
   "metadata": {},
   "source": [
    "Protocols in Python are informal interfaces, unlike compiler enforced formal interfaces like in Java.\n",
    "\n",
    "One only needs to implement the parts of a protocol that are relevant to the context."
   ]
  },
  {
   "cell_type": "markdown",
   "metadata": {},
   "source": [
    "We have high level languages to express our intentions at a higher level, and let the language worry about what low level operations are needed. Keep this in mind whenever coding. Is my code intuitive?"
   ]
  },
  {
   "cell_type": "code",
   "execution_count": null,
   "metadata": {},
   "outputs": [],
   "source": []
  }
 ],
 "metadata": {
  "kernelspec": {
   "display_name": "Python 3",
   "language": "python",
   "name": "python3"
  }
 },
 "nbformat": 4,
 "nbformat_minor": 2
}
