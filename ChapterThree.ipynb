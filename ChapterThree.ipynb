{
 "cells": [
  {
   "cell_type": "markdown",
   "metadata": {},
   "source": [
    "# Dictionaries and Sets"
   ]
  },
  {
   "cell_type": "markdown",
   "metadata": {},
   "source": [
    "Dictionaries are central to Python's implementation.\n",
    "\n",
    "Under the hood dictionaries and sets are hash tables."
   ]
  },
  {
   "cell_type": "code",
   "execution_count": null,
   "metadata": {
    "scrolled": true
   },
   "outputs": [],
   "source": [
    "# builtin functions live in a dict:\n",
    "__builtins__.__dict__"
   ]
  },
  {
   "cell_type": "markdown",
   "metadata": {},
   "source": [
    "In Python, an object is hashable if it has a hash value that never changes during its lifetime. It must a \\__hash__() method, and a \\__eq__() method. Hashable objects which compare equal must have equal hashes.\n",
    "\n",
    "Atomic immutable types, such as str, bytes, numeric types, are all hashable. A tuple is hashable if all its elements are hashable."
   ]
  },
  {
   "cell_type": "code",
   "execution_count": null,
   "metadata": {},
   "outputs": [],
   "source": [
    "a = dict(one=1, two=2, three=3)\n",
    "b = {'one': 1, 'two': 2, 'three': 3}\n",
    "c = dict(zip(['one', 'two', 'three'], [1, 2, 3]))\n",
    "d = dict([('two', 2), ('three', 3), ('one', 1)])\n",
    "e = dict({'three': 3, 'one': 1, 'two': 2})\n",
    "a == b == c == d == e"
   ]
  },
  {
   "cell_type": "markdown",
   "metadata": {},
   "source": [
    "dict.setdefault(key, default) will return the value assocaited with the key, or the default value if key is not found"
   ]
  },
  {
   "cell_type": "markdown",
   "metadata": {},
   "source": [
    "## collections.defaultdict"
   ]
  },
  {
   "cell_type": "markdown",
   "metadata": {},
   "source": [
    "collections.defauldict can be given a callable that produces a default value when \\__getitem__ is passed a nonexistent key.\n",
    "\n",
    "This callable is held in an instance attribute called default_factory"
   ]
  },
  {
   "cell_type": "markdown",
   "metadata": {},
   "source": [
    "mappings in python deal with missing keys using the \\__missing__ method\n",
    "\n",
    "\\__getitem__ will call \\__missing__ if key not found"
   ]
  },
  {
   "cell_type": "markdown",
   "metadata": {},
   "source": [
    "In Python 3 a search like k in my_dict.keys() is very efficient. Because dict.keys() returns a view, which is like a set, and set containment checks are very fast."
   ]
  },
  {
   "cell_type": "markdown",
   "metadata": {},
   "source": [
    "## Variations of dict"
   ]
  },
  {
   "cell_type": "markdown",
   "metadata": {},
   "source": [
    "###### collections.OrderedDict\n",
    "\n",
    "Maintains the insertion order of keys. popitem() returns the last item by default.\n",
    "popitem(last=False) returns the first item"
   ]
  },
  {
   "cell_type": "markdown",
   "metadata": {},
   "source": [
    "###### collections.ChainMap\n",
    "\n",
    "Holds a list of mappings that be searched as one.\n",
    "The lookup happens on each mapping in order, and succeeds if the key is found in any of them."
   ]
  },
  {
   "cell_type": "code",
   "execution_count": null,
   "metadata": {},
   "outputs": [],
   "source": [
    "import builtins\n",
    "pylookup = collections.ChainMap(locals(), globals(), vars(builtins))\n",
    "#pylookup"
   ]
  },
  {
   "cell_type": "markdown",
   "metadata": {},
   "source": [
    "###### collections.Counter\n",
    "\n",
    "Mapping that holds an integer count for each key.\n",
    "Updating an existing key adds to its count."
   ]
  },
  {
   "cell_type": "code",
   "execution_count": null,
   "metadata": {},
   "outputs": [],
   "source": [
    "ct = collections.Counter('abaracadebaraaaa')"
   ]
  },
  {
   "cell_type": "markdown",
   "metadata": {},
   "source": [
    "###### collections.UserDict\n",
    "\n",
    "Designed to be subclassed"
   ]
  },
  {
   "cell_type": "markdown",
   "metadata": {},
   "source": [
    "## Subclassing UserDict"
   ]
  },
  {
   "cell_type": "markdown",
   "metadata": {},
   "source": [
    "collections.UserDict subclasses from MutableMapping, which subclasses from Mapping."
   ]
  },
  {
   "cell_type": "markdown",
   "metadata": {},
   "source": [
    "## Sets"
   ]
  },
  {
   "cell_type": "markdown",
   "metadata": {},
   "source": [
    "Set elements must be hashable. set type is not hashable, but frozenset is.\n",
    "\n",
    "infix operators can be used. a | b for union, a & b for intersection, and a - b for difference\n",
    "\n",
    "Counting occurences of needles in a haystack: len(needles & haystack)"
   ]
  },
  {
   "cell_type": "markdown",
   "metadata": {},
   "source": [
    "There is no literal notation for empty set. e.g. {} does not mean empty set, it means empty dictionary.\n",
    "\n",
    "So set() must be used for that."
   ]
  },
  {
   "cell_type": "markdown",
   "metadata": {},
   "source": [
    "Building a set with {1, 2, 3} is faster than set([1, 2, 3]), because the latter requires looking up set(), building a list, and passing it to the constructur.\n",
    "While {1, 2, 3} runs specialiszed BUILT_SET bytecode."
   ]
  },
  {
   "cell_type": "code",
   "execution_count": null,
   "metadata": {},
   "outputs": [],
   "source": [
    "import dis\n",
    "dis.dis('{1}')"
   ]
  },
  {
   "cell_type": "code",
   "execution_count": null,
   "metadata": {},
   "outputs": [],
   "source": [
    "dis.dis('set([1])')"
   ]
  },
  {
   "cell_type": "markdown",
   "metadata": {},
   "source": [
    "frozenset is an immutable set"
   ]
  },
  {
   "cell_type": "markdown",
   "metadata": {},
   "source": [
    "infix operators require that both operands be sets.\n",
    "All other set methods can take one or more iterables.\n",
    "\n",
    "Producing the union of four collections can be done with a.union(b, c, d) - where only a must be a set. The others can be iterables."
   ]
  },
  {
   "cell_type": "markdown",
   "metadata": {},
   "source": [
    "Sets also support augmented assignment operators such as |="
   ]
  },
  {
   "cell_type": "markdown",
   "metadata": {},
   "source": [
    "Sets in Python support all ideal mathematical operations"
   ]
  },
  {
   "cell_type": "markdown",
   "metadata": {},
   "source": [
    "https://docs.python.org/2/library/stdtypes.html#set\n",
    "\n",
    "Or see page 88 of Fluent Ptyhon book"
   ]
  },
  {
   "cell_type": "markdown",
   "metadata": {},
   "source": [
    "Dicts and sets are very fast in Python"
   ]
  },
  {
   "cell_type": "markdown",
   "metadata": {},
   "source": [
    "## Hash tables in Dictionaries"
   ]
  },
  {
   "cell_type": "markdown",
   "metadata": {},
   "source": [
    "There is a bucket for each item. Each bucket contains two fields, a reference to the key, and a reference to the value of the item.\n",
    "\n",
    "Python tries to keep a third of the bucket empty. Crowded hashtables are copied to a new location with more space."
   ]
  },
  {
   "cell_type": "markdown",
   "metadata": {},
   "source": [
    "Putting an item in a hashtable first requires getting the hash value of the item's key, using the hash() function.\n",
    "\n",
    "Equal items must have equals hash values. 1 == 1.0 is ture, hash(1) == hash(1.0) must also be true\n",
    "\n",
    "The hash value of an int that fits in a machine word is the value of the int itself"
   ]
  },
  {
   "cell_type": "markdown",
   "metadata": {},
   "source": [
    "Hash values are scattered around the index space as much as possible. Ideally, objects that are similar but not equal have very very different hashes."
   ]
  },
  {
   "cell_type": "markdown",
   "metadata": {},
   "source": [
    "###### How the has table algorithm works in Python"
   ]
  },
  {
   "cell_type": "markdown",
   "metadata": {},
   "source": [
    "To get the value of dict[key], Python calls hash(key). It uses part of the hash value of key to locate a bucket in the hashtable. \n",
    "If the found bucket is empty, a KeyError is raised\n",
    "Otherwise, a pair found_key:found_value is found. If search_key == found_key, the value is returned.\n",
    "Otherwise, a hash collision occurs. The algorithm takes different bits of the hash, combines them in some way, and usese that to lookup a different bucket. \n",
    "If the newly looked up bucket is empty, a KeyError is raised. Otherwise, either keys match, or there is another hash collision and the collision resolution process repeats.\n",
    "\n",
    "See figure 3-3 on page 94 for flowchart."
   ]
  },
  {
   "cell_type": "markdown",
   "metadata": {},
   "source": [
    "###### What this means for dicts practically"
   ]
  },
  {
   "cell_type": "markdown",
   "metadata": {},
   "source": [
    "Keys must be hashable. Meaning the key object must:\n",
    "\n",
    "1. support the hash() function\n",
    "2. support equality via an \\__eq__() method\n",
    "3. if a == b is True, then hash(a) == hash(b) must also be True"
   ]
  },
  {
   "cell_type": "markdown",
   "metadata": {},
   "source": [
    "Since dicts use hashtables internally, they must be sparse, and are thus not very space effecient.\n",
    "For large records, using a list of tuples or namedTuples is more efficient a list of dicts, as each dict requires storing field names, and there is extra overhead for each hash table."
   ]
  },
  {
   "cell_type": "markdown",
   "metadata": {},
   "source": [
    "*Optimision is the altar where maintainability is sacrificed.*"
   ]
  },
  {
   "cell_type": "markdown",
   "metadata": {},
   "source": [
    "If collisions occur, it will change the ordering of the keys. This happens when a second bucket is looked up using different parts of the hash.\n",
    "\n",
    "Dicts are compared based on pair containment alone, and not on ordering."
   ]
  },
  {
   "cell_type": "markdown",
   "metadata": {},
   "source": [
    "When a new item is added to a dict, the Python interpreter may deicde the hash table needs to grow in size. So a bigger hash table is created, and all entries added into it.\n",
    "\n",
    "During this process, new hash collisions may occur, so it is likely that the keys will be ordered differently."
   ]
  },
  {
   "cell_type": "markdown",
   "metadata": {},
   "source": [
    "Modifying dict contents while iterating over it is a bad idea, becuase the order of the dict may chance. In which case you miss scanning certain items.\n",
    "\n",
    "Better to read the dict completely, collecting the needed additions in a seperate dict, then updating with the first one.\n",
    "\n",
    "In Python 3 .keys(), .items(), and .values() return dictionary views. These are dynamic and will always refelct any chances to the dict."
   ]
  },
  {
   "cell_type": "markdown",
   "metadata": {},
   "source": [
    "## Hash tables and sets"
   ]
  },
  {
   "cell_type": "markdown",
   "metadata": {},
   "source": [
    "set and frozenset are also implemented with a hashtable, but each buckets holds a single reference to the item."
   ]
  },
  {
   "cell_type": "markdown",
   "metadata": {},
   "source": [
    "All of the above notes on dicts apply to sets:\n",
    "\n",
    "* Set elements must be hashable\n",
    "* Sets have significant memory overhead\n",
    "* Memberhsip testing is very effecient\n",
    "* Element ordering depends on insertion order\n",
    "* Adding elements may change the order of elements in the set"
   ]
  },
  {
   "cell_type": "markdown",
   "metadata": {},
   "source": [
    "## Chapter Summary"
   ]
  },
  {
   "cell_type": "markdown",
   "metadata": {},
   "source": [
    "Most Python mappings have an update method. It is very powerful, allowing for bulk insertion or overwriting from either another mapping, an iterable providing (key, value) pairs, and from keyword arguments. \n",
    "Mapping constuctors use update internally, allowing mappings to be initialised from mappings, iterables, and kwargs.\n",
    "\n",
    "The \\__missing__ method in the mappings API lets use customise what happens when a key is not found.\n",
    "\n",
    "MappingProxyType from the types module lets you create immutable mappings."
   ]
  },
  {
   "cell_type": "markdown",
   "metadata": {},
   "source": [
    "hashtable implemention underyling dicts and sets is extremely fast, but pays a price in memory."
   ]
  },
  {
   "cell_type": "code",
   "execution_count": null,
   "metadata": {},
   "outputs": [],
   "source": []
  }
 ],
 "metadata": {
  "kernelspec": {
   "display_name": "Python 3",
   "language": "python",
   "name": "python3"
  }
 },
 "nbformat": 4,
 "nbformat_minor": 2
}
