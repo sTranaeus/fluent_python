{
 "cells": [
  {
   "cell_type": "markdown",
   "metadata": {},
   "source": [
    "Python has two standard ways of getting a string representation of an object.\n",
    "\n",
    "`repr()` - String representing the object as the developer wants to see it\n",
    "\n",
    "`str()` - String representing the object as th euser wants to see it\n",
    "\n",
    "These call the special methods `__repr__` and `__str__`"
   ]
  },
  {
   "cell_type": "code",
   "execution_count": null,
   "metadata": {},
   "outputs": [],
   "source": [
    "from array import array\n",
    "import math\n",
    "\n",
    "class Vector2d:\n",
    "    typecode = 'd'\n",
    "    \n",
    "    def __init__(self, x, y):\n",
    "        # converting to a float catches bad input early on\n",
    "        self.x = float(x)\n",
    "        self.y = float(y)\n",
    "    \n",
    "    # having a iter special method makes it iterable, allowing for variable unpacking.\n",
    "    def __iter__(self):\n",
    "        return (i for i in (self.x, self.y))\n",
    "    \n",
    "    # {!r} calls the __repr__ formatter\n",
    "    # while using {!s} would call the __str__ formatter\n",
    "    def __repr__(self):\n",
    "        class_name = type(self).__name__\n",
    "        return '{}({!r}, {!r})'.format(class_name, *self)\n",
    "        \n",
    "    def __str__(self):\n",
    "        return str(tuple(self))\n",
    "        \n",
    "    def __bytes__(self):\n",
    "        return (bytes([ord(self.typecode)]) + \n",
    "        bytes(array(self.typecode, self)))\n",
    "    \n",
    "    def __eq__(self, other):\n",
    "        return typle(self) == tuple(other)\n",
    "    \n",
    "    def __abs__(self):\n",
    "        return math.hypot(self.x, self.y)\n",
    "    \n",
    "    def __bool__(self):\n",
    "        return bool(abs(self))\n",
    "    \n",
    "    # if there is method for bytes represetnation\n",
    "    # naturally, there shoul be a method that imports from bytes\n",
    "    @classmethod\n",
    "    def frombytes(cls, octets):\n",
    "        typecode = chr(cotets[0])\n",
    "        memv = memoryview(octets[1:]).cast(typecode)\n",
    "        return cls(*memv)\n",
    "        \n",
    "    def __format__(self, fmt_spec=''):\n",
    "        components = (format(c, fmt_spec) for c in self)\n",
    "        return '({}, {})'.format(*components)"
   ]
  },
  {
   "cell_type": "markdown",
   "metadata": {},
   "source": [
    "ord() return unicode code point of a character\n",
    "\n",
    "bin() retur  binary representation of a unicode code point\n",
    "\n",
    "chr() returns character of given unicode code point"
   ]
  },
  {
   "cell_type": "markdown",
   "metadata": {},
   "source": [
    "## classmethod Versus staticmethod"
   ]
  },
  {
   "cell_type": "markdown",
   "metadata": {},
   "source": [
    "###### classmethod\n",
    "Defines a method that operates on the class, and not the instance.\n",
    "Notices how it recieves the class itself, instead of the instance as the first argument - `cls` instead `self`.\n",
    "\n",
    "It's most commonly used for alternative constructors, like frombytes. See how the return statement calls `cls`, to construct a new instance.\n",
    "\n",
    "###### staticmethod\n",
    "Changes a class method so that it does not recieve the special first argument - no `self` or `class`.\n",
    "A staticmethod in Python is essentially a plain function that happens to be in the class body, and not in the module."
   ]
  },
  {
   "cell_type": "markdown",
   "metadata": {},
   "source": [
    "## Formatted Displays"
   ]
  },
  {
   "cell_type": "markdown",
   "metadata": {},
   "source": [
    "format() built in and str.format() call .\\__format__(format_spec)\n",
    "\n",
    "Formatting specifier is either the second arg in format(obj, format_spec), or whatever appears after the colon in a {} replacement field for str.format"
   ]
  },
  {
   "cell_type": "code",
   "execution_count": null,
   "metadata": {},
   "outputs": [],
   "source": [
    "print(format(0.1256512345, '0.4f'))\n",
    "print('{rate:0.4f}'.format(rate=0.12513451))"
   ]
  },
  {
   "cell_type": "markdown",
   "metadata": {},
   "source": [
    "Notation used in format specifier is called the Format Specification Mini-Language"
   ]
  },
  {
   "cell_type": "code",
   "execution_count": null,
   "metadata": {},
   "outputs": [],
   "source": [
    "def __format__(self, fmt_spec=''):\n",
    "    components = (format(c, fmt_spec) for c in self)\n",
    "    return '({}, {})'.format(*components)"
   ]
  },
  {
   "cell_type": "markdown",
   "metadata": {},
   "source": [
    "To start to handle more complex format_specifier, add in some control flow:"
   ]
  },
  {
   "cell_type": "code",
   "execution_count": null,
   "metadata": {},
   "outputs": [],
   "source": [
    "def __format__(self, fmt_spec=''):\n",
    "    if fmt_spec.enswith('p'): # if string endswith p, use polar coordinates\n",
    "        fmt_spec = fmt_spec[:-1] # remove p suffix from format_spec, allowing for applying other format rules.\n",
    "        coords = (abs(self), self.angle())\n",
    "        outer_fmt = '<{}, {}>'\n",
    "    else:\n",
    "        coords = self\n",
    "        outer_fmt = '({}, {})'\n",
    "    componetns = (format(c, fmt_spec) for c in coords) # generate iterable with formatted strings\n",
    "    return outer_fmt.format(*components) # plug the iterable into the given outer_fmt"
   ]
  },
  {
   "cell_type": "markdown",
   "metadata": {},
   "source": [
    "## A Hashable Vector2d"
   ]
  },
  {
   "cell_type": "markdown",
   "metadata": {},
   "source": [
    "Until now, the vector instances are unhashable, which means they can't be put in a set.\n",
    "\n",
    "So we need to implement \\__hash__, and \\__eq__(which we already have). Vector instances also need to be made immutable."
   ]
  },
  {
   "cell_type": "markdown",
   "metadata": {},
   "source": [
    "###### What is hashable? \n",
    "    An object is hashable if it has a hash which does not chance over its lifetime. It needs a \\__hash__ and a \\__eq__ method. atomic, immuteble types such as str, bytes, and numeric types are hashable. A tuple is hashable only if its elements are. "
   ]
  },
  {
   "cell_type": "markdown",
   "metadata": {},
   "source": [
    "To make a class instance immutable, its properties need to be made read only. You shouldn't be able to just do something like `v1.x = 7`"
   ]
  },
  {
   "cell_type": "code",
   "execution_count": null,
   "metadata": {},
   "outputs": [],
   "source": [
    "class Vectord2:\n",
    "    typecode = 'd'\n",
    "    \n",
    "    # use two leading underscores to make a attribute private\n",
    "    def __init__(self, x, y):\n",
    "        self.__x = float(x)\n",
    "        self.__y = float(y)\n",
    "        \n",
    "    # property decorater marks the getter method of a property\n",
    "    @property\n",
    "    def x(self):\n",
    "        return self.__x\n",
    "        \n",
    "    @property\n",
    "    def y(self):\n",
    "        return self.__y\n",
    "    \n",
    "    def __iter__(self):\n",
    "        return (i for i in (self.x, self.y))"
   ]
  },
  {
   "cell_type": "markdown",
   "metadata": {},
   "source": [
    "Now we must create a \\__hash__ method. Ideally, we combine the attribtues of the class and their hashes. It's recommended to use the XOR ^ operator."
   ]
  },
  {
   "cell_type": "code",
   "execution_count": null,
   "metadata": {},
   "outputs": [],
   "source": [
    "def __hash__(self):\n",
    "    return hash(self.x) ^ hash(self.y)"
   ]
  },
  {
   "cell_type": "markdown",
   "metadata": {},
   "source": [
    "If you're creating a type with a clear numeric value, it also makes sense to implement \\__int__ and \\__float__ methods, which are invoked by the int() and float() builtins."
   ]
  },
  {
   "cell_type": "markdown",
   "metadata": {},
   "source": [
    "__remember__, customers don't care if your objects are \"Pythonic\" "
   ]
  },
  {
   "cell_type": "markdown",
   "metadata": {},
   "source": [
    "## Private and \"Protected\" Attributes in Python"
   ]
  },
  {
   "cell_type": "markdown",
   "metadata": {},
   "source": [
    "As Python does not have dedicated keywords for scope modifying like `private` in Java, name mangling is used instead."
   ]
  },
  {
   "cell_type": "markdown",
   "metadata": {},
   "source": [
    "If you name an instance variable with two leading underscores, `__attr`, Python stores the name in the instance's `__dict__` prefixed with a leading underscore and the class name. So the `__name` attr of class `Person` is stored as `_Person__name`."
   ]
  },
  {
   "cell_type": "markdown",
   "metadata": {},
   "source": [
    "So, in practise, you could do `instance._classname_attr` to access a private attribute. But this is not meant to be!"
   ]
  },
  {
   "cell_type": "markdown",
   "metadata": {},
   "source": [
    "Consider name mangling like having a cover over a switch. It's a safety device, not a security one. It prevents accidental use, but does not prevent malicious use."
   ]
  },
  {
   "cell_type": "markdown",
   "metadata": {},
   "source": [
    "## Saving Space with __slots__ Class Attribute"
   ]
  },
  {
   "cell_type": "markdown",
   "metadata": {},
   "source": [
    "Python stores instance attributes in aa per-instance dict named \\__dict__. Dictionaries are not very memory efficient because of the underlying hash table used for fast access.\n",
    "\n",
    "\n",
    "If you're dealing with many many instances, with few attributes, use the \\__slots__ class attribute to save memory. \\__slots__ lets the interpreter store instance attributes in a tuple instead of a dict."
   ]
  },
  {
   "cell_type": "markdown",
   "metadata": {},
   "source": [
    "\\__slots__ attribute  cannot be inherited. Python only takes into account \\__slots__ attribtues defined in each individual class."
   ]
  },
  {
   "cell_type": "code",
   "execution_count": null,
   "metadata": {},
   "outputs": [],
   "source": [
    "class Vector2d:\n",
    "    # to define __slots__, create a variable with that name,\n",
    "    # and assign it to an iterable of string representations of instance attribtues.\n",
    "    __slots__ = ('__x', '__y')"
   ]
  },
  {
   "cell_type": "markdown",
   "metadata": {},
   "source": [
    "However, if you're handling millions of objects with numeric data, then use NumPy arrays - which are extremely effecient"
   ]
  },
  {
   "cell_type": "markdown",
   "metadata": {},
   "source": [
    "\\__slots__ should only be used for optimization"
   ]
  },
  {
   "cell_type": "markdown",
   "metadata": {},
   "source": [
    "CAreless optimization is worse than premature optimization"
   ]
  },
  {
   "cell_type": "markdown",
   "metadata": {},
   "source": [
    "\\__weakref__ attributes is necessary for an object to support weak references. This attribute is present by default in UDCs. Though you made need to include \"\\__weakref__\" in \"\\__slots__\", to allow for the instance to be weakly referenced."
   ]
  },
  {
   "cell_type": "markdown",
   "metadata": {},
   "source": [
    "It's likely that just using Pandas, wich is already optimised, is better."
   ]
  },
  {
   "cell_type": "markdown",
   "metadata": {},
   "source": [
    "The added complexity of using \"\\__slots__\" is only really worth it if you need to memory effeciency."
   ]
  },
  {
   "cell_type": "markdown",
   "metadata": {},
   "source": [
    "## Overriding Class Attributes"
   ]
  },
  {
   "cell_type": "markdown",
   "metadata": {},
   "source": [
    "In Python, class attributes can be used as default values for instance attributes.\n",
    "\n",
    "In Vectord2d, we define the class attribute `typecode`. When you call `self.typecode`, as there is no instance variable called `typecode`, `Vector2d.typecode` is used by default."
   ]
  },
  {
   "cell_type": "markdown",
   "metadata": {},
   "source": [
    "Subclasses can override their parent's class variables:"
   ]
  },
  {
   "cell_type": "code",
   "execution_count": null,
   "metadata": {},
   "outputs": [],
   "source": [
    "#Simply inherit Vector2d, change the typecode class variable, and keep all the other functionality.\n",
    "class ShortVector2d(Vector2d):\n",
    "    typecode = 'f'"
   ]
  },
  {
   "cell_type": "markdown",
   "metadata": {},
   "source": [
    "\"Simple is better than complex\". A python object should be as simple as the requirements allow."
   ]
  },
  {
   "cell_type": "markdown",
   "metadata": {},
   "source": [
    "## Chapter summary"
   ]
  },
  {
   "cell_type": "markdown",
   "metadata": {},
   "source": [
    "To build Python objects, observe how real Python objects behave"
   ]
  },
  {
   "cell_type": "markdown",
   "metadata": {},
   "source": [
    "Python's design allows you to start with public attributes, and then make them private properties if the need arises. Python makes it much easier to follow the answer to \"What's the simplest thing that could possibly work?\""
   ]
  },
  {
   "cell_type": "markdown",
   "metadata": {},
   "source": [
    "Java's private and protected keywords are also more safety than security. You can still just get the private field using Java's reflection API. The application would require a SecurityManager, which rarely happens."
   ]
  },
  {
   "cell_type": "code",
   "execution_count": null,
   "metadata": {},
   "outputs": [],
   "source": [
    "s"
   ]
  }
 ],
 "metadata": {
  "kernelspec": {
   "display_name": "Python 3",
   "language": "python",
   "name": "python3"
  }
 },
 "nbformat": 4,
 "nbformat_minor": 2
}
